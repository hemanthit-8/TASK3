{
  "cells": [
    {
      "cell_type": "code",
      "execution_count": null,
      "metadata": {
        "colab": {
          "base_uri": "https://localhost:8080/"
        },
        "id": "NIDQkaHmmzMC",
        "outputId": "12bbef4f-e77d-4ea2-f81e-1a14ed4c821b"
      },
      "outputs": [],
      "source": [
        "import random\n",
        "import string\n",
        "\n",
        "def generate_password(length):\n",
        "    # Define the character sets to use in the password\n",
        "    lower = string.ascii_lowercase\n",
        "    upper = string.ascii_uppercase\n",
        "    digits = string.digits\n",
        "    special = string.punctuation\n",
        "\n",
        "    # Combine all character sets\n",
        "    all_characters = lower + upper + digits + special\n",
        "\n",
        "    # Ensure that the password contains at least one character from each set\n",
        "    password = [\n",
        "        random.choice(lower),\n",
        "        random.choice(upper),\n",
        "        random.choice(digits),\n",
        "        random.choice(special)\n",
        "    ]\n",
        "\n",
        "    # Fill the rest of the password length with random characters from all sets\n",
        "    password += random.choices(all_characters, k=length-4)\n",
        "\n",
        "    # Shuffle the password list to ensure randomness\n",
        "    random.shuffle(password)\n",
        "\n",
        "    # Convert the list to a string\n",
        "    return ''.join(password)\n",
        "\n",
        "def main():\n",
        "    # Prompt user to specify the desired length of the password\n",
        "    try:\n",
        "        length = int(input(\"Enter the desired length of the password (minimum 4 characters): \"))\n",
        "        if length < 4:\n",
        "            print(\"Password length should be at least 4 characters.\")\n",
        "            return\n",
        "\n",
        "        # Generate the password\n",
        "        password = generate_password(length)\n",
        "\n",
        "        # Display the generated password\n",
        "        print(f\"Generated password: {password}\")\n",
        "\n",
        "    except ValueError:\n",
        "        print(\"Invalid input! Please enter a valid number.\")\n",
        "\n",
        "# Run the password generator\n",
        "if __name__ == \"__main__\":\n",
        "    main()"
      ]
    }
  ],
  "metadata": {
    "colab": {
      "provenance": []
    },
    "kernelspec": {
      "display_name": "Python 3",
      "name": "python3"
    },
    "language_info": {
      "name": "python"
    }
  },
  "nbformat": 4,
  "nbformat_minor": 0
}
